{
 "nbformat": 4,
 "nbformat_minor": 0,
 "metadata": {
  "colab": {
   "name": "Predicting Skin Cancer",
   "provenance": [],
   "collapsed_sections": [],
   "toc_visible": true,
   "include_colab_link": true
  },
  "kernelspec": {
   "name": "python3",
   "display_name": "Python 3"
  },
  "pycharm": {
   "stem_cell": {
    "cell_type": "raw",
    "source": [],
    "metadata": {
     "collapsed": false
    }
   }
  }
 },
 "cells": [
  {
   "cell_type": "markdown",
   "metadata": {
    "id": "view-in-github",
    "colab_type": "text"
   },
   "source": [
    "<a href=\"https://colab.research.google.com/github/yuridadt/play_with_keras/blob/master/Predicting_Skin_Cancer.ipynb\" target=\"_parent\"><img src=\"https://colab.research.google.com/assets/colab-badge.svg\" alt=\"Open In Colab\"/></a>"
   ]
  },
  {
   "cell_type": "markdown",
   "metadata": {
    "id": "z1py6j5PgVNZ",
    "colab_type": "text"
   },
   "source": [
    "# Predicting Skin Cancer"
   ]
  },
  {
   "cell_type": "markdown",
   "metadata": {
    "id": "sFTayTF2LZsl",
    "colab_type": "text"
   },
   "source": [
    "### Подготовка фотографий для загрузки на гугл диск и обработки керасом"
   ]
  },
  {
   "cell_type": "code",
   "metadata": {
    "id": "jobVLm7XLqdg",
    "colab_type": "code",
    "colab": {}
   },
   "source": [
    "from data_preparation import file_remover\n",
    "\n",
    "file_remover('\\deep learn\\isic_benign_train',\n",
    "            '\\deep learn\\isic_test',\n",
    "            300)\n",
    "\n",
    "file_remover('\\deep learn\\isic_malignant_train',\n",
    "            'deep learn\\isic_test',\n",
    "            300)\n"
   ],
   "execution_count": 0,
   "outputs": []
  },
  {
   "cell_type": "markdown",
   "metadata": {
    "id": "RKQaHnl4L54_",
    "colab_type": "text"
   },
   "source": [
    "Уменьшенные файлы уже лежат в папке в гите:"
   ]
  },
  {
   "cell_type": "code",
   "execution_count": null,
   "outputs": [],
   "source": [
    "! git clone https://github.com/yuridadt/play_with_keras.git"
   ],
   "metadata": {
    "collapsed": false,
    "pycharm": {
     "name": "#%%\n"
    }
   }
  },
  {
   "cell_type": "code",
   "execution_count": null,
   "outputs": [],
   "source": [
    "img_width, img_height = 32, 32\n",
    "\n",
    "train_data_dir = '/content/play_with_keras/data/isic_train'\n",
    "validation_data_dir = '/content/play_with_keras/data/isic_test'"
   ],
   "metadata": {
    "collapsed": false,
    "pycharm": {
     "name": "#%%\n"
    }
   }
  },
  {
   "cell_type": "markdown",
   "metadata": {
    "id": "8SctAmtRMSZY",
    "colab_type": "text"
   },
   "source": [
    "### Keras"
   ]
  },
  {
   "cell_type": "code",
   "metadata": {
    "id": "cM4vKMat_akf",
    "colab_type": "code",
    "outputId": "a4f7d2b9-7b48-4e8b-e0b8-4fa250aa9d2f",
    "colab": {
     "base_uri": "https://localhost:8080/",
     "height": 34
    }
   },
   "source": [
    "# Importing Keras packages\n",
    "from keras.models import Sequential\n",
    "from keras.layers import Convolution2D\n",
    "from keras.layers import MaxPooling2D\n",
    "from keras.layers import Flatten\n",
    "from keras.layers import Dense"
   ],
   "execution_count": 1,
   "outputs": [
    {
     "output_type": "stream",
     "text": [
      "Using TensorFlow backend.\n"
     ],
     "name": "stderr"
    }
   ]
  },
  {
   "cell_type": "code",
   "metadata": {
    "id": "glUPo0PW_6vI",
    "colab_type": "code",
    "outputId": "c96e9614-9d6a-4d98-e574-c6cf626b9cdb",
    "colab": {
     "base_uri": "https://localhost:8080/",
     "height": 71
    }
   },
   "source": [
    "#initializing the CNN\n",
    "classifier = Sequential()"
   ],
   "execution_count": 2,
   "outputs": [
    {
     "output_type": "stream",
     "text": [
      "WARNING:tensorflow:From /usr/local/lib/python3.6/dist-packages/keras/backend/tensorflow_backend.py:66: The name tf.get_default_graph is deprecated. Please use tf.compat.v1.get_default_graph instead.\n",
      "\n"
     ],
     "name": "stdout"
    }
   ]
  },
  {
   "cell_type": "code",
   "metadata": {
    "id": "OuISgOez_6oi",
    "colab_type": "code",
    "outputId": "8e1dfc24-9edd-4922-b77f-fe995bb7360d",
    "colab": {
     "base_uri": "https://localhost:8080/",
     "height": 241
    }
   },
   "source": [
    "#Adding the Convolution Layer\n",
    "classifier.add(Convolution2D(32, 3, 3, input_shape = (32, 32, 3), activation = \"relu\"))\n",
    "#Adding the Pooling Layer\n",
    "classifier.add(MaxPooling2D(pool_size=(3, 3)))\n",
    "#Flattening the layer\n",
    "classifier.add(Flatten())\n",
    "# Full Connection\n",
    "classifier.add(Dense(output_dim = 128, activation = 'relu'))\n",
    "classifier.add(Dense(output_dim = 1, activation = 'sigmoid'))"
   ],
   "execution_count": 3,
   "outputs": [
    {
     "output_type": "stream",
     "text": [
      "WARNING:tensorflow:From /usr/local/lib/python3.6/dist-packages/keras/backend/tensorflow_backend.py:541: The name tf.placeholder is deprecated. Please use tf.compat.v1.placeholder instead.\n",
      "\n",
      "WARNING:tensorflow:From /usr/local/lib/python3.6/dist-packages/keras/backend/tensorflow_backend.py:4432: The name tf.random_uniform is deprecated. Please use tf.random.uniform instead.\n",
      "\n",
      "WARNING:tensorflow:From /usr/local/lib/python3.6/dist-packages/keras/backend/tensorflow_backend.py:4267: The name tf.nn.max_pool is deprecated. Please use tf.nn.max_pool2d instead.\n",
      "\n"
     ],
     "name": "stdout"
    },
    {
     "output_type": "stream",
     "text": [
      "/usr/local/lib/python3.6/dist-packages/ipykernel_launcher.py:1: UserWarning: Update your `Conv2D` call to the Keras 2 API: `Conv2D(32, (3, 3), input_shape=(32, 32, 3..., activation=\"relu\")`\n",
      "  \"\"\"Entry point for launching an IPython kernel.\n",
      "/usr/local/lib/python3.6/dist-packages/ipykernel_launcher.py:7: UserWarning: Update your `Dense` call to the Keras 2 API: `Dense(activation=\"relu\", units=128)`\n",
      "  import sys\n",
      "/usr/local/lib/python3.6/dist-packages/ipykernel_launcher.py:8: UserWarning: Update your `Dense` call to the Keras 2 API: `Dense(activation=\"sigmoid\", units=1)`\n",
      "  \n"
     ],
     "name": "stderr"
    }
   ]
  },
  {
   "cell_type": "code",
   "metadata": {
    "id": "uQ0uoWvd_6hJ",
    "colab_type": "code",
    "outputId": "15815d6a-9857-4a0b-93d1-138f83bf255d",
    "colab": {
     "base_uri": "https://localhost:8080/",
     "height": 156
    }
   },
   "source": [
    "#Compiling the CNN\n",
    "classifier.compile(optimizer = 'adam', loss = 'binary_crossentropy', metrics = ['accuracy'])\n"
   ],
   "execution_count": 4,
   "outputs": [
    {
     "output_type": "stream",
     "text": [
      "WARNING:tensorflow:From /usr/local/lib/python3.6/dist-packages/keras/optimizers.py:793: The name tf.train.Optimizer is deprecated. Please use tf.compat.v1.train.Optimizer instead.\n",
      "\n",
      "WARNING:tensorflow:From /usr/local/lib/python3.6/dist-packages/keras/backend/tensorflow_backend.py:3657: The name tf.log is deprecated. Please use tf.math.log instead.\n",
      "\n",
      "WARNING:tensorflow:From /usr/local/lib/python3.6/dist-packages/tensorflow_core/python/ops/nn_impl.py:183: where (from tensorflow.python.ops.array_ops) is deprecated and will be removed in a future version.\n",
      "Instructions for updating:\n",
      "Use tf.where in 2.0, which has the same broadcast rule as np.where\n"
     ],
     "name": "stdout"
    }
   ]
  },
  {
   "cell_type": "code",
   "metadata": {
    "id": "ngbLYf_Y_6do",
    "colab_type": "code",
    "outputId": "e1a01d5c-28ec-4b35-99b1-85177bb6554c",
    "colab": {
     "base_uri": "https://localhost:8080/",
     "height": 918
    }
   },
   "source": [
    "#Fitting our CNN to the image dataset\n",
    "from keras.preprocessing.image import ImageDataGenerator\n",
    "\n",
    "train_datagen = ImageDataGenerator(\n",
    "                    rescale=1./255,\n",
    "                    shear_range=0.2,\n",
    "                    zoom_range=0.2,\n",
    "                    horizontal_flip=True)\n",
    "\n",
    "test_datagen = ImageDataGenerator(rescale=1./255)\n",
    "\n",
    "training_set = train_datagen.flow_from_directory(train_data_dir,\n",
    "                                                 target_size = (img_width, img_height),\n",
    "                                                 batch_size=10,\n",
    "                                                 class_mode='binary')\n",
    "test_set = test_datagen.flow_from_directory(validation_data_dir,\n",
    "                                            target_size=(img_width, img_height),\n",
    "                                            batch_size=32,\n",
    "                                            class_mode='binary')\n",
    "classifier.fit_generator(training_set,\n",
    "                         steps_per_epoch=1255,\n",
    "                         epochs=25,\n",
    "                         validation_data= test_set, \n",
    "                         validation_steps=400)"
   ],
   "execution_count": 0,
   "outputs": [
    {
     "output_type": "stream",
     "text": [
      "Found 1265 images belonging to 2 classes.\n",
      "Found 400 images belonging to 2 classes.\n",
      "Epoch 1/25\n",
      "1255/1255 [==============================] - 691s 551ms/step - loss: 0.4545 - acc: 0.7825 - val_loss: 0.1292 - val_acc: 0.9625\n",
      "Epoch 2/25\n",
      "1255/1255 [==============================] - 313s 249ms/step - loss: 0.3138 - acc: 0.8578 - val_loss: 0.1548 - val_acc: 0.9373\n",
      "Epoch 3/25\n",
      "1255/1255 [==============================] - 308s 246ms/step - loss: 0.2598 - acc: 0.8855 - val_loss: 0.2036 - val_acc: 0.9200\n",
      "Epoch 4/25\n",
      "1255/1255 [==============================] - 308s 245ms/step - loss: 0.2172 - acc: 0.9068 - val_loss: 0.1988 - val_acc: 0.9224\n",
      "Epoch 5/25\n",
      "1255/1255 [==============================] - 303s 242ms/step - loss: 0.1712 - acc: 0.9310 - val_loss: 0.1654 - val_acc: 0.9351\n",
      "Epoch 6/25\n",
      "1255/1255 [==============================] - 305s 243ms/step - loss: 0.1442 - acc: 0.9427 - val_loss: 0.2555 - val_acc: 0.9151\n",
      "Epoch 7/25\n",
      "1255/1255 [==============================] - 313s 249ms/step - loss: 0.1185 - acc: 0.9545 - val_loss: 0.3036 - val_acc: 0.9148\n",
      "Epoch 8/25\n",
      "1255/1255 [==============================] - 304s 243ms/step - loss: 0.1016 - acc: 0.9626 - val_loss: 0.2757 - val_acc: 0.9226\n",
      "Epoch 9/25\n",
      "1255/1255 [==============================] - 309s 246ms/step - loss: 0.0919 - acc: 0.9664 - val_loss: 0.2533 - val_acc: 0.9349\n",
      "Epoch 10/25\n",
      "1255/1255 [==============================] - 308s 246ms/step - loss: 0.0736 - acc: 0.9746 - val_loss: 0.3598 - val_acc: 0.8972\n",
      "Epoch 11/25\n",
      "1255/1255 [==============================] - 305s 243ms/step - loss: 0.0663 - acc: 0.9764 - val_loss: 0.2852 - val_acc: 0.9401\n",
      "Epoch 12/25\n",
      "1255/1255 [==============================] - 303s 242ms/step - loss: 0.0548 - acc: 0.9822 - val_loss: 0.3915 - val_acc: 0.9002\n",
      "Epoch 13/25\n",
      "1255/1255 [==============================] - 305s 243ms/step - loss: 0.0558 - acc: 0.9802 - val_loss: 0.3263 - val_acc: 0.9149\n",
      "Epoch 14/25\n",
      "1255/1255 [==============================] - 306s 244ms/step - loss: 0.0437 - acc: 0.9847 - val_loss: 0.3064 - val_acc: 0.9377\n",
      "Epoch 15/25\n",
      "1255/1255 [==============================] - 307s 245ms/step - loss: 0.0545 - acc: 0.9793 - val_loss: 0.4244 - val_acc: 0.9098\n",
      "Epoch 16/25\n",
      "1255/1255 [==============================] - 305s 243ms/step - loss: 0.0503 - acc: 0.9816 - val_loss: 0.3448 - val_acc: 0.9325\n",
      "Epoch 17/25\n",
      "1255/1255 [==============================] - 306s 244ms/step - loss: 0.0360 - acc: 0.9869 - val_loss: 0.4686 - val_acc: 0.9152\n",
      "Epoch 18/25\n",
      "1255/1255 [==============================] - 306s 244ms/step - loss: 0.0454 - acc: 0.9816 - val_loss: 0.4101 - val_acc: 0.9175\n",
      "Epoch 19/25\n",
      "1255/1255 [==============================] - 304s 243ms/step - loss: 0.0342 - acc: 0.9865 - val_loss: 0.4278 - val_acc: 0.9300\n",
      "Epoch 20/25\n",
      "1255/1255 [==============================] - 305s 243ms/step - loss: 0.0405 - acc: 0.9853 - val_loss: 0.3840 - val_acc: 0.9199\n",
      "Epoch 21/25\n",
      "1255/1255 [==============================] - 306s 244ms/step - loss: 0.0324 - acc: 0.9861 - val_loss: 0.4150 - val_acc: 0.9194\n",
      "Epoch 22/25\n",
      "1255/1255 [==============================] - 303s 242ms/step - loss: 0.0273 - acc: 0.9885 - val_loss: 0.4264 - val_acc: 0.9154\n",
      "Epoch 23/25\n",
      "1255/1255 [==============================] - 307s 245ms/step - loss: 0.0347 - acc: 0.9851 - val_loss: 0.4025 - val_acc: 0.9202\n",
      "Epoch 24/25\n",
      "1255/1255 [==============================] - 310s 247ms/step - loss: 0.0290 - acc: 0.9871 - val_loss: 0.4598 - val_acc: 0.9174\n",
      "Epoch 25/25\n",
      "1255/1255 [==============================] - 310s 247ms/step - loss: 0.0373 - acc: 0.9860 - val_loss: 0.6057 - val_acc: 0.8922\n"
     ],
     "name": "stdout"
    },
    {
     "output_type": "execute_result",
     "data": {
      "text/plain": [
       "<keras.callbacks.History at 0x7fb10f392f60>"
      ]
     },
     "metadata": {
      "tags": []
     },
     "execution_count": 30
    }
   ]
  }
 ]
}